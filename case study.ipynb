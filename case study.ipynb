{
 "cells": [
  {
   "cell_type": "markdown",
   "metadata": {},
   "source": [
    "Connected to Python 3.10.11"
   ]
  },
  {
   "cell_type": "code",
   "execution_count": null,
   "id": "5e9c17db-882f-483d-92ac-fea165264d42",
   "metadata": {},
   "outputs": [
    {
     "ename": "ModuleNotFoundError",
     "evalue": "No module named 'sklearn'",
     "output_type": "error",
     "traceback": [
      "\u001b[1;31m---------------------------------------------------------------------------\u001b[0m",
      "\u001b[1;31mModuleNotFoundError\u001b[0m                       Traceback (most recent call last)",
      "File \u001b[1;32m~external\\ce443ebd-8fe0-4705-a0e3-80adda5c899d\\Untitled-1.py:3\u001b[0m\n\u001b[0;32m      1\u001b[0m \u001b[39mimport\u001b[39;00m \u001b[39mpandas\u001b[39;00m \u001b[39mas\u001b[39;00m \u001b[39mpd\u001b[39;00m\n\u001b[0;32m      2\u001b[0m \u001b[39mimport\u001b[39;00m \u001b[39mnumpy\u001b[39;00m \u001b[39mas\u001b[39;00m \u001b[39mnp\u001b[39;00m\n\u001b[1;32m----> 3\u001b[0m \u001b[39mfrom\u001b[39;00m \u001b[39msklearn\u001b[39;00m\u001b[39m.\u001b[39;00m\u001b[39mmodel_selection\u001b[39;00m \u001b[39mimport\u001b[39;00m train_test_split\n\u001b[0;32m      4\u001b[0m \u001b[39mfrom\u001b[39;00m \u001b[39msklearn\u001b[39;00m\u001b[39m.\u001b[39;00m\u001b[39mlinear_model\u001b[39;00m \u001b[39mimport\u001b[39;00m LogisticRegression\n\u001b[0;32m      5\u001b[0m \u001b[39mfrom\u001b[39;00m \u001b[39msklearn\u001b[39;00m\u001b[39m.\u001b[39;00m\u001b[39mmetrics\u001b[39;00m \u001b[39mimport\u001b[39;00m accuracy_score, classification_report\n",
      "\u001b[1;31mModuleNotFoundError\u001b[0m: No module named 'sklearn'"
     ]
    }
   ],
   "source": [
    "import pandas as pd\n",
    "import numpy as np\n",
    "from sklearn.model_selection import train_test_split\n",
    "from sklearn.linear_model import LogisticRegression\n",
    "from sklearn.metrics import accuracy_score, classification_report\n",
    "from sklearn.preprocessing import OneHotEncoder\n",
    "\n",
    "# chargement de données\n",
    "file_path = 'C:/Users/YOUSRA/Desktop/SOA Research;EarthenDam/srcsc-2025-dam-data-for-students.xlsx'\n",
    "data = pd.read_excel(file_path)\n",
    "print(data.head(), \"\\n\")\n",
    "\n",
    "# Étape 1 : Filtrer les données pour inclure uniquement les \"earthen dams\"\n",
    "earthen_dams = data[data['Primary Type'] == 'Earth']\n",
    "print(earthen_dams.head(), \"\\n\")\n",
    "\n",
    "# Étape 2 : Créer une variable binaire pour la probabilité d'échec sur 10 ans\n",
    "threshold = 0.5  # 50% probabilité d'échec\n",
    "earthen_dams['Failure_Binary'] = (earthen_dams['Probability of Failure'] >= threshold).astype(int)\n",
    "print(earthen_dams[['Probability of Failure', 'Failure_Binary']].head(), \"\\n\")\n",
    "\n",
    "# Étape 3 : Sélectionner les variables explicatives pertinentes\n",
    "explanatory_vars = [ 'Region', 'Regulated Dam', 'Primary Purpose','Height (m)', 'Length (km)', 'Volume (m3)', 'Year Completed','Years Modified', 'Surface (km2)', 'Drainage (km2)', 'Spillway', 'Last Inspection Date', 'Inspection Frequency','Distance to Nearest City (km)', 'Hazard', 'Assessment', 'Assessment Date']  \n",
    "target_var = 'Failure_Binary'\n",
    "\n",
    "# Isoler les données pertinentes\n",
    "X = earthen_dams[explanatory_vars]\n",
    "y = earthen_dams[target_var]\n",
    "print(X.head(), \"\\n\")\n",
    "print(y.head(), \"\\n\")\n",
    "\n",
    "\n",
    "#Les valeurs manquaantessss ???????????\n",
    "\n",
    "# Étape 4 : Encoder les variables catégoriques\n",
    "categorical_vars = X.select_dtypes(include=['object']).columns\n",
    "encoder = OneHotEncoder(sparse_output=False, drop='first')\n",
    "X_encoded = pd.DataFrame(encoder.fit_transform(X[categorical_vars]), columns=encoder.get_feature_names_out())\n",
    "X_numeric = X.select_dtypes(exclude=['object'])\n",
    "X_final = pd.concat([X_numeric.reset_index(drop=True), X_encoded.reset_index(drop=True)], axis=1)\n",
    "print(X_final.head(), \"\\n\")\n",
    "# Étape 5 : Diviser les données en ensembles d'entraînement (80%) et de test (20%)\n",
    "X_train, X_test, y_train, y_test = train_test_split(X_final, y, test_size=0.2, random_state=42)\n",
    "\n",
    "# Étape 6 : Ajuster un modèle de régression logistique\n",
    "model = LogisticRegression()\n",
    "model.fit(X_train, y_train)\n",
    "\n",
    "# Étape 7 : Évaluer le modèle\n",
    "y_pred = model.predict(X_test)\n",
    "accuracy = accuracy_score(y_test, y_pred)\n",
    "print(f\"Accuracy of the model: {accuracy:.2f}\")\n",
    "print(classification_report(y_test, y_pred))\n",
    "\n",
    "# Étape 8 : Estimer la probabilité d'échec sur 10 ans\n",
    "X_test['Predicted_Prob_Failure'] = model.predict_proba(X_test)[:, 1]\n",
    "print(X_test[['Predicted_Prob_Failure']].head())\n",
    "\n",
    "# Étape 9 (optionnelle) : Intégrer les ajustements pour l'extrapolation temporelle\n",
    "time = 15  # Exemple pour 15 ans\n",
    "X_test['Adjusted_Prob_Failure'] = 1 - np.power(1 - X_test['Predicted_Prob_Failure'], time / 10)\n",
    "print(X_test[['Adjusted_Prob_Failure']].head())"
   ]
  },
  {
   "cell_type": "markdown",
   "metadata": {},
   "source": [
    "Restarted Python 3.10.11"
   ]
  }
 ],
 "metadata": {
  "kernelspec": {
   "display_name": "Python 3",
   "language": "python",
   "name": "python3"
  },
  "language_info": {
   "name": "python",
   "version": "3.10.11"
  }
 },
 "nbformat": 4,
 "nbformat_minor": 2
}
